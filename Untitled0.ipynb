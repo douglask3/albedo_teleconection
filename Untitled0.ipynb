{
 "metadata": {
  "name": "Untitled0"
 },
 "nbformat": 3,
 "nbformat_minor": 0,
 "worksheets": [
  {
   "cells": [
    {
     "cell_type": "markdown",
     "metadata": {},
     "source": [
      "# Wind Component"
     ]
    },
    {
     "cell_type": "markdown",
     "metadata": {},
     "source": [
      "## Setting things up"
     ]
    },
    {
     "cell_type": "markdown",
     "metadata": {},
     "source": [
      "Import"
     ]
    },
    {
     "cell_type": "code",
     "collapsed": false,
     "input": [
      "import matplotlib\n",
      "\n",
      "import sys\n",
      "sys.path.append('../')\n",
      "\n",
      "import libs.import_iris\n",
      "import iris\n",
      "import iris.coords\n",
      "import iris.coord_categorisation\n",
      "from libs.load_stash import *\n",
      "import numpy as np\n",
      "\n",
      "import matplotlib.pyplot as plt\n",
      "import iris.quickplot as qplt\n",
      "import iris.plot as iplt\n",
      "from   libs.plot_maps import *\n",
      "import matplotlib.colors as colours\n",
      "from   pylab import *\n",
      "import matplotlib.cm as mpl_cm\n",
      "\n",
      "import cartopy.crs as ccrs\n",
      "\n",
      "from libs.arctans import *"
     ],
     "language": "python",
     "metadata": {},
     "outputs": [
      {
       "output_type": "stream",
       "stream": "stderr",
       "text": [
        "/users/global/rjel/.local/lib/python2.7/site-packages/Cartopy-0.13.1-py2.7-linux-x86_64.egg/cartopy/crs.py:1394: UserWarning: The Robinson projection in the v4.8.x series of Proj.4 contains a discontinuity at 40 deg latitude. Use this projection with caution.\n",
        "  warnings.warn('The Robinson projection in the v4.8.x series '\n"
       ]
      }
     ],
     "prompt_number": 1
    },
    {
     "cell_type": "markdown",
     "metadata": {},
     "source": [
      "### Configure\n",
      "\n",
      "paths"
     ]
    },
    {
     "cell_type": "code",
     "collapsed": false,
     "input": [
      "jobs = ['u-aq226', 'u-ar162']\n",
      "u_wind_dir   = ['data/' + i + '/apc' for i in jobs]\n",
      "u_wind_stash = 'm01s30i201'\n",
      "\n",
      "v_wind_dir   = u_wind_dir\n",
      "v_wind_stash = 'm01s30i202' \n",
      "\n",
      "mapLast_n_years = 2"
     ],
     "language": "python",
     "metadata": {},
     "outputs": [],
     "prompt_number": 2
    },
    {
     "cell_type": "markdown",
     "metadata": {},
     "source": [
      "Plotting info"
     ]
    },
    {
     "cell_type": "code",
     "collapsed": false,
     "input": [
      "cmap  = 'PuOr_r'\n",
      "dcmap = cmap\n",
      "scmap = 'GnBu'\n",
      "\n",
      "dlevels_u_wind = [-10.0, -3.0, -1.0, -0.3, -0.1, 0.1, 0.3, 1.0, 3.0, 10.0]\n",
      "levels_u_wind  = [-10.0, -5.0, -1.0, -0.5, 0.5, 1.0, 5.0, 10.0]\n",
      "\n",
      "dlevels_v_wind = dlevels_u_wind\n",
      "levels_v_wind  = levels_u_wind\n",
      "\n",
      "levels_s_wind  = [0.0, 0.1, 0.5, 1, 2, 5, 10]\n",
      "\n",
      "pressure = [850, 500, 200]"
     ],
     "language": "python",
     "metadata": {},
     "outputs": [],
     "prompt_number": 3
    },
    {
     "cell_type": "markdown",
     "metadata": {},
     "source": [
      "### Load data"
     ]
    },
    {
     "cell_type": "code",
     "collapsed": false,
     "input": [
      "u_wind = loadJobs(u_wind_dir, u_wind_stash)\n",
      "v_wind = loadJobs(v_wind_dir, v_wind_stash)\n",
      "jobs.append('difference')"
     ],
     "language": "python",
     "metadata": {},
     "outputs": [
      {
       "output_type": "stream",
       "stream": "stdout",
       "text": [
        "None\n",
        "m01s30i201\n",
        "None"
       ]
      },
      {
       "output_type": "stream",
       "stream": "stdout",
       "text": [
        "\n",
        "m01s30i201\n",
        "unknown / (m s-1)                   (time: 4201; pressure: 6; latitude: 145; longitude: 192)\n",
        "     Dimension coordinates:\n",
        "          time                           x               -            -               -\n",
        "          pressure                       -               x            -               -\n",
        "          latitude                       -               -            x               -\n",
        "          longitude                      -               -            -               x\n",
        "     Auxiliary coordinates:\n",
        "          forecast_period                x               -            -               -\n",
        "     Scalar coordinates:\n",
        "          forecast_reference_time: 1978-12-01 00:00:00\n",
        "     Attributes:\n",
        "          STASH: m01s30i201\n",
        "          source: Data from Met Office Unified Model\n",
        "          um_version: 10.7"
       ]
      },
      {
       "output_type": "stream",
       "stream": "stdout",
       "text": [
        "\n",
        "unknown / (m s-1)                   (time: 4561; pressure: 6; latitude: 145; longitude: 192)\n",
        "     Dimension coordinates:\n",
        "          time                           x               -            -               -\n",
        "          pressure                       -               x            -               -\n",
        "          latitude                       -               -            x               -\n",
        "          longitude                      -               -            -               x\n",
        "     Auxiliary coordinates:\n",
        "          forecast_period                x               -            -               -\n",
        "     Scalar coordinates:\n",
        "          forecast_reference_time: 1978-12-01 00:00:00\n",
        "     Attributes:\n",
        "          STASH: m01s30i201\n",
        "          source: Data from Met Office Unified Model\n",
        "          um_version: 10.7\n",
        "None\n",
        "m01s30i202\n",
        "None"
       ]
      },
      {
       "output_type": "stream",
       "stream": "stdout",
       "text": [
        "\n",
        "m01s30i202\n",
        "unknown / (m s-1)                   (time: 4201; pressure: 6; latitude: 145; longitude: 192)\n",
        "     Dimension coordinates:\n",
        "          time                           x               -            -               -\n",
        "          pressure                       -               x            -               -\n",
        "          latitude                       -               -            x               -\n",
        "          longitude                      -               -            -               x\n",
        "     Auxiliary coordinates:\n",
        "          forecast_period                x               -            -               -\n",
        "     Scalar coordinates:\n",
        "          forecast_reference_time: 1978-12-01 00:00:00\n",
        "     Attributes:\n",
        "          STASH: m01s30i202\n",
        "          source: Data from Met Office Unified Model\n",
        "          um_version: 10.7"
       ]
      },
      {
       "output_type": "stream",
       "stream": "stdout",
       "text": [
        "\n",
        "unknown / (m s-1)                   (time: 4561; pressure: 6; latitude: 145; longitude: 192)\n",
        "     Dimension coordinates:\n",
        "          time                           x               -            -               -\n",
        "          pressure                       -               x            -               -\n",
        "          latitude                       -               -            x               -\n",
        "          longitude                      -               -            -               x\n",
        "     Auxiliary coordinates:\n",
        "          forecast_period                x               -            -               -\n",
        "     Scalar coordinates:\n",
        "          forecast_reference_time: 1978-12-01 00:00:00\n",
        "     Attributes:\n",
        "          STASH: m01s30i202\n",
        "          source: Data from Met Office Unified Model\n",
        "          um_version: 10.7\n"
       ]
      }
     ],
     "prompt_number": 4
    },
    {
     "cell_type": "markdown",
     "metadata": {},
     "source": [
      "### u and v winds"
     ]
    },
    {
     "cell_type": "code",
     "collapsed": false,
     "input": [
      "def extract_map_and_plot(cube, title, extract = True, pressure = 850, *args, **kw):\n",
      "    if extract:\n",
      "        cube = cube.extract(iris.Constraint(pressure = pressure))\n",
      "        cube = extract_cube_last_nYears(cube, mapLast_n_years)\n",
      "        cube = cube.collapsed('time', iris.analysis.MEAN)\n",
      "    \n",
      "    plot_lonely_cube(cube, projection = ccrs.PlateCarree(), *args, **kw)\n",
      "    plt.title(title)\n",
      "    return(cube)\n",
      "    \n",
      "def plot_job_maps(cubes, dcmap, dlevels, extract = True, *args, **kw):\n",
      "    plt.rcParams['figure.figsize'] = (15.0, 5.0)\n",
      "    \n",
      "    map1 = extract_map_and_plot(cubes[0], jobs[0], extract = extract, N = 1, M = 3, n = 1, extend = 'both', *args, **kw)\n",
      "    map2 = extract_map_and_plot(cubes[1], jobs[1], extract = extract, N = 1, M = 3, n = 2, extend = 'both', *args, **kw)\n",
      "    \n",
      "    dmap = map1 - map2 if extract else cubes[2]\n",
      "    plot_lonely_cube(dmap, N = 1, M = 3, n = 3, projection = ccrs.PlateCarree(), cmap = dcmap, levels = dlevels, extend = 'both')\n",
      "    plt.title('difference')\n",
      "    return([map1, map2, dmap])"
     ],
     "language": "python",
     "metadata": {},
     "outputs": [],
     "prompt_number": 5
    },
    {
     "cell_type": "code",
     "collapsed": false,
     "input": [
      "def make_u_wind_maps(pressure):\n",
      "    return plot_job_maps(u_wind, dcmap = dcmap, dlevels = dlevels_u_wind,\n",
      "                                  cmap =  cmap,  levels =  levels_u_wind,\n",
      "                                  pressure = pressure)\n",
      "def make_v_wind_maps(pressure):\n",
      "    return plot_job_maps(v_wind, dcmap = dcmap, dlevels = dlevels_v_wind,\n",
      "                                  cmap =  cmap,  levels =  levels_v_wind,\n",
      "                                  pressure = pressure)"
     ],
     "language": "python",
     "metadata": {},
     "outputs": [],
     "prompt_number": 6
    },
    {
     "cell_type": "code",
     "collapsed": false,
     "input": [
      "def speed(x, y):\n",
      "    return np.sqrt(x**2 + y **2)\n",
      "\n",
      "def findSpeedDir(u, v, n, title, normalise = False, factor = 8, scale = 0.007, *args, **kw):\n",
      "    plt.rcParams['figure.figsize'] = (16.0, 3.0)\n",
      "    wind_speed = v.copy()\n",
      "    wind_direc = v.copy()\n",
      "    \n",
      "    wind_speed.data = speed(u.data, v.data)\n",
      "    wind_direc.data = arctans(u.data, v.data)\n",
      "    \n",
      "    ulon = u.coord('longitude')\n",
      "    vlon = v.coord('longitude')\n",
      "    \n",
      "    x = ulon.points\n",
      "    y = u.coord('latitude').points\n",
      "    \n",
      "    cf = plot_lonely_cube(wind_speed, N = 1, M = 3, n = n, projection = ccrs.PlateCarree(),\n",
      "                          cmap = scmap, levels = levels_s_wind, extend = 'max',\n",
      "                          colourbar = False, *args, **kw)\n",
      "    \n",
      "    xindex = range(0, len(x), factor)\n",
      "    yindex = range(0, len(y), factor)\n",
      "    zindex = np.ix_(yindex, xindex)\n",
      "    \n",
      "    norm = wind_speed.data[zindex] if normalise else 1.0\n",
      "    \n",
      "    #\n",
      "    plt.quiver(x[xindex], y[yindex], u.data[zindex] / norm, v.data[zindex] / norm, pivot = 'middle', scale = 1.0 / scale)\n",
      "    plt.title(title)\n",
      "    plt.xlim((-180, 180))\n",
      "    return wind_speed, wind_direc, cf\n",
      "\n",
      "def arrowed_maps(u_wind_map, v_wind_map):\n",
      "    for u, v, n, title, s in zip(u_wind_map, v_wind_map, [1,2,3], jobs, [0.005, 0.005, 0.01]):\n",
      "        ws, wd, cf = findSpeedDir(u, v, n, title, scale = s)\n",
      "    \n",
      "    colorbar_axes = plt.gcf().add_axes([0.3,0.01, 0.4, 0.08])\n",
      "    plt.colorbar(cf, colorbar_axes, orientation='horizontal')"
     ],
     "language": "python",
     "metadata": {},
     "outputs": [],
     "prompt_number": 7
    },
    {
     "cell_type": "markdown",
     "metadata": {},
     "source": [
      "### 850"
     ]
    },
    {
     "cell_type": "markdown",
     "metadata": {},
     "source": [
      "#### u_wind"
     ]
    },
    {
     "cell_type": "code",
     "collapsed": false,
     "input": [
      "u_wind_map = make_u_wind_maps(850)"
     ],
     "language": "python",
     "metadata": {},
     "outputs": [
      {
       "ename": "NameError",
       "evalue": "global name 'np' is not defined",
       "output_type": "pyerr",
       "traceback": [
        "\u001b[1;31m---------------------------------------------------------------------------\u001b[0m\n\u001b[1;31mNameError\u001b[0m                                 Traceback (most recent call last)",
        "\u001b[1;32m<ipython-input-8-1fde343e5821>\u001b[0m in \u001b[0;36m<module>\u001b[1;34m()\u001b[0m\n\u001b[1;32m----> 1\u001b[1;33m \u001b[0mu_wind_map\u001b[0m \u001b[1;33m=\u001b[0m \u001b[0mmake_u_wind_maps\u001b[0m\u001b[1;33m(\u001b[0m\u001b[1;36m850\u001b[0m\u001b[1;33m)\u001b[0m\u001b[1;33m\u001b[0m\u001b[0m\n\u001b[0m",
        "\u001b[1;32m<ipython-input-6-8ec43dae9526>\u001b[0m in \u001b[0;36mmake_u_wind_maps\u001b[1;34m(pressure)\u001b[0m\n\u001b[0;32m      2\u001b[0m     return plot_job_maps(u_wind, dcmap = dcmap, dlevels = dlevels_u_wind,\n\u001b[0;32m      3\u001b[0m                                   \u001b[0mcmap\u001b[0m \u001b[1;33m=\u001b[0m  \u001b[0mcmap\u001b[0m\u001b[1;33m,\u001b[0m  \u001b[0mlevels\u001b[0m \u001b[1;33m=\u001b[0m  \u001b[0mlevels_u_wind\u001b[0m\u001b[1;33m,\u001b[0m\u001b[1;33m\u001b[0m\u001b[0m\n\u001b[1;32m----> 4\u001b[1;33m                                   pressure = pressure)\n\u001b[0m\u001b[0;32m      5\u001b[0m \u001b[1;32mdef\u001b[0m \u001b[0mmake_v_wind_maps\u001b[0m\u001b[1;33m(\u001b[0m\u001b[0mpressure\u001b[0m\u001b[1;33m)\u001b[0m\u001b[1;33m:\u001b[0m\u001b[1;33m\u001b[0m\u001b[0m\n\u001b[0;32m      6\u001b[0m     return plot_job_maps(v_wind, dcmap = dcmap, dlevels = dlevels_v_wind,\n",
        "\u001b[1;32m<ipython-input-5-6f91709302e3>\u001b[0m in \u001b[0;36mplot_job_maps\u001b[1;34m(cubes, dcmap, dlevels, extract, *args, **kw)\u001b[0m\n\u001b[0;32m     12\u001b[0m     \u001b[0mplt\u001b[0m\u001b[1;33m.\u001b[0m\u001b[0mrcParams\u001b[0m\u001b[1;33m[\u001b[0m\u001b[1;34m'figure.figsize'\u001b[0m\u001b[1;33m]\u001b[0m \u001b[1;33m=\u001b[0m \u001b[1;33m(\u001b[0m\u001b[1;36m15.0\u001b[0m\u001b[1;33m,\u001b[0m \u001b[1;36m5.0\u001b[0m\u001b[1;33m)\u001b[0m\u001b[1;33m\u001b[0m\u001b[0m\n\u001b[0;32m     13\u001b[0m \u001b[1;33m\u001b[0m\u001b[0m\n\u001b[1;32m---> 14\u001b[1;33m     \u001b[0mmap1\u001b[0m \u001b[1;33m=\u001b[0m \u001b[0mextract_map_and_plot\u001b[0m\u001b[1;33m(\u001b[0m\u001b[0mcubes\u001b[0m\u001b[1;33m[\u001b[0m\u001b[1;36m0\u001b[0m\u001b[1;33m]\u001b[0m\u001b[1;33m,\u001b[0m \u001b[0mjobs\u001b[0m\u001b[1;33m[\u001b[0m\u001b[1;36m0\u001b[0m\u001b[1;33m]\u001b[0m\u001b[1;33m,\u001b[0m \u001b[0mextract\u001b[0m \u001b[1;33m=\u001b[0m \u001b[0mextract\u001b[0m\u001b[1;33m,\u001b[0m \u001b[0mN\u001b[0m \u001b[1;33m=\u001b[0m \u001b[1;36m1\u001b[0m\u001b[1;33m,\u001b[0m \u001b[0mM\u001b[0m \u001b[1;33m=\u001b[0m \u001b[1;36m3\u001b[0m\u001b[1;33m,\u001b[0m \u001b[0mn\u001b[0m \u001b[1;33m=\u001b[0m \u001b[1;36m1\u001b[0m\u001b[1;33m,\u001b[0m \u001b[0mextend\u001b[0m \u001b[1;33m=\u001b[0m \u001b[1;34m'both'\u001b[0m\u001b[1;33m,\u001b[0m \u001b[1;33m*\u001b[0m\u001b[0margs\u001b[0m\u001b[1;33m,\u001b[0m \u001b[1;33m**\u001b[0m\u001b[0mkw\u001b[0m\u001b[1;33m)\u001b[0m\u001b[1;33m\u001b[0m\u001b[0m\n\u001b[0m\u001b[0;32m     15\u001b[0m     \u001b[0mmap2\u001b[0m \u001b[1;33m=\u001b[0m \u001b[0mextract_map_and_plot\u001b[0m\u001b[1;33m(\u001b[0m\u001b[0mcubes\u001b[0m\u001b[1;33m[\u001b[0m\u001b[1;36m1\u001b[0m\u001b[1;33m]\u001b[0m\u001b[1;33m,\u001b[0m \u001b[0mjobs\u001b[0m\u001b[1;33m[\u001b[0m\u001b[1;36m1\u001b[0m\u001b[1;33m]\u001b[0m\u001b[1;33m,\u001b[0m \u001b[0mextract\u001b[0m \u001b[1;33m=\u001b[0m \u001b[0mextract\u001b[0m\u001b[1;33m,\u001b[0m \u001b[0mN\u001b[0m \u001b[1;33m=\u001b[0m \u001b[1;36m1\u001b[0m\u001b[1;33m,\u001b[0m \u001b[0mM\u001b[0m \u001b[1;33m=\u001b[0m \u001b[1;36m3\u001b[0m\u001b[1;33m,\u001b[0m \u001b[0mn\u001b[0m \u001b[1;33m=\u001b[0m \u001b[1;36m2\u001b[0m\u001b[1;33m,\u001b[0m \u001b[0mextend\u001b[0m \u001b[1;33m=\u001b[0m \u001b[1;34m'both'\u001b[0m\u001b[1;33m,\u001b[0m \u001b[1;33m*\u001b[0m\u001b[0margs\u001b[0m\u001b[1;33m,\u001b[0m \u001b[1;33m**\u001b[0m\u001b[0mkw\u001b[0m\u001b[1;33m)\u001b[0m\u001b[1;33m\u001b[0m\u001b[0m\n\u001b[0;32m     16\u001b[0m \u001b[1;33m\u001b[0m\u001b[0m\n",
        "\u001b[1;32m<ipython-input-5-6f91709302e3>\u001b[0m in \u001b[0;36mextract_map_and_plot\u001b[1;34m(cube, title, extract, pressure, *args, **kw)\u001b[0m\n\u001b[0;32m      2\u001b[0m     \u001b[1;32mif\u001b[0m \u001b[0mextract\u001b[0m\u001b[1;33m:\u001b[0m\u001b[1;33m\u001b[0m\u001b[0m\n\u001b[0;32m      3\u001b[0m         \u001b[0mcube\u001b[0m \u001b[1;33m=\u001b[0m \u001b[0mcube\u001b[0m\u001b[1;33m.\u001b[0m\u001b[0mextract\u001b[0m\u001b[1;33m(\u001b[0m\u001b[0miris\u001b[0m\u001b[1;33m.\u001b[0m\u001b[0mConstraint\u001b[0m\u001b[1;33m(\u001b[0m\u001b[0mpressure\u001b[0m \u001b[1;33m=\u001b[0m \u001b[0mpressure\u001b[0m\u001b[1;33m)\u001b[0m\u001b[1;33m)\u001b[0m\u001b[1;33m\u001b[0m\u001b[0m\n\u001b[1;32m----> 4\u001b[1;33m         \u001b[0mcube\u001b[0m \u001b[1;33m=\u001b[0m \u001b[0mextract_cube_last_nYears\u001b[0m\u001b[1;33m(\u001b[0m\u001b[0mcube\u001b[0m\u001b[1;33m,\u001b[0m \u001b[0mmapLast_n_years\u001b[0m\u001b[1;33m)\u001b[0m\u001b[1;33m\u001b[0m\u001b[0m\n\u001b[0m\u001b[0;32m      5\u001b[0m         \u001b[0mcube\u001b[0m \u001b[1;33m=\u001b[0m \u001b[0mcube\u001b[0m\u001b[1;33m.\u001b[0m\u001b[0mcollapsed\u001b[0m\u001b[1;33m(\u001b[0m\u001b[1;34m'time'\u001b[0m\u001b[1;33m,\u001b[0m \u001b[0miris\u001b[0m\u001b[1;33m.\u001b[0m\u001b[0manalysis\u001b[0m\u001b[1;33m.\u001b[0m\u001b[0mMEAN\u001b[0m\u001b[1;33m)\u001b[0m\u001b[1;33m\u001b[0m\u001b[0m\n\u001b[0;32m      6\u001b[0m \u001b[1;33m\u001b[0m\u001b[0m\n",
        "\u001b[1;32m/prj/ukesm/doukel/albedo_teleconection/libs/load_stash.py\u001b[0m in \u001b[0;36mextract_cube_last_nYears\u001b[1;34m(cube, mapLast_n_years)\u001b[0m\n\u001b[0;32m     11\u001b[0m     \u001b[0mlast_year\u001b[0m  \u001b[1;33m=\u001b[0m \u001b[0mcube\u001b[0m\u001b[1;33m.\u001b[0m\u001b[0mcoord\u001b[0m\u001b[1;33m(\u001b[0m\u001b[1;34m'year'\u001b[0m\u001b[1;33m)\u001b[0m\u001b[1;33m.\u001b[0m\u001b[0mpoints\u001b[0m\u001b[1;33m[\u001b[0m\u001b[1;33m-\u001b[0m\u001b[1;36m1\u001b[0m\u001b[1;33m]\u001b[0m\u001b[1;33m\u001b[0m\u001b[0m\n\u001b[0;32m     12\u001b[0m     \u001b[0myears_from\u001b[0m \u001b[1;33m=\u001b[0m \u001b[0mlast_year\u001b[0m \u001b[1;33m-\u001b[0m \u001b[0mmapLast_n_years\u001b[0m\u001b[1;33m\u001b[0m\u001b[0m\n\u001b[1;32m---> 13\u001b[1;33m     \u001b[0myears\u001b[0m \u001b[1;33m=\u001b[0m \u001b[0mnp\u001b[0m\u001b[1;33m.\u001b[0m\u001b[0marange\u001b[0m\u001b[1;33m(\u001b[0m\u001b[0myears_from\u001b[0m\u001b[1;33m,\u001b[0m \u001b[0mlast_year\u001b[0m\u001b[1;33m)\u001b[0m\u001b[1;33m\u001b[0m\u001b[0m\n\u001b[0m\u001b[0;32m     14\u001b[0m \u001b[1;33m\u001b[0m\u001b[0m\n\u001b[0;32m     15\u001b[0m     \u001b[0mcube\u001b[0m \u001b[1;33m=\u001b[0m \u001b[1;33m[\u001b[0m\u001b[0mcube\u001b[0m\u001b[1;33m.\u001b[0m\u001b[0mextract\u001b[0m\u001b[1;33m(\u001b[0m\u001b[0miris\u001b[0m\u001b[1;33m.\u001b[0m\u001b[0mConstraint\u001b[0m\u001b[1;33m(\u001b[0m\u001b[0myear\u001b[0m \u001b[1;33m=\u001b[0m \u001b[0mi\u001b[0m\u001b[1;33m)\u001b[0m\u001b[1;33m)\u001b[0m \u001b[1;32mfor\u001b[0m \u001b[0mi\u001b[0m \u001b[1;32min\u001b[0m \u001b[0myears\u001b[0m\u001b[1;33m]\u001b[0m\u001b[1;33m\u001b[0m\u001b[0m\n",
        "\u001b[1;31mNameError\u001b[0m: global name 'np' is not defined"
       ]
      }
     ],
     "prompt_number": 8
    },
    {
     "cell_type": "markdown",
     "metadata": {},
     "source": [
      "#### v_wind"
     ]
    },
    {
     "cell_type": "code",
     "collapsed": false,
     "input": [
      "v_wind_map = make_v_wind_maps(850)"
     ],
     "language": "python",
     "metadata": {},
     "outputs": []
    },
    {
     "cell_type": "markdown",
     "metadata": {},
     "source": [
      "#### Combined"
     ]
    },
    {
     "cell_type": "code",
     "collapsed": false,
     "input": [
      "arrowed_maps(u_wind_map, v_wind_map)"
     ],
     "language": "python",
     "metadata": {},
     "outputs": []
    },
    {
     "cell_type": "markdown",
     "metadata": {},
     "source": [
      "### 500"
     ]
    },
    {
     "cell_type": "markdown",
     "metadata": {},
     "source": [
      "#### u_wind"
     ]
    },
    {
     "cell_type": "code",
     "collapsed": false,
     "input": [
      "u_wind_map = make_u_wind_maps(500)"
     ],
     "language": "python",
     "metadata": {},
     "outputs": []
    },
    {
     "cell_type": "markdown",
     "metadata": {},
     "source": [
      "#### v_wind"
     ]
    },
    {
     "cell_type": "code",
     "collapsed": false,
     "input": [
      "v_wind_map = make_v_wind_maps(500)"
     ],
     "language": "python",
     "metadata": {},
     "outputs": []
    },
    {
     "cell_type": "markdown",
     "metadata": {},
     "source": [
      "#### combined"
     ]
    },
    {
     "cell_type": "code",
     "collapsed": false,
     "input": [
      "arrowed_maps(u_wind_map, v_wind_map)"
     ],
     "language": "python",
     "metadata": {},
     "outputs": []
    },
    {
     "cell_type": "markdown",
     "metadata": {},
     "source": [
      "### 200"
     ]
    },
    {
     "cell_type": "markdown",
     "metadata": {},
     "source": [
      "#### u_wind"
     ]
    },
    {
     "cell_type": "code",
     "collapsed": false,
     "input": [
      "u_wind_map = make_u_wind_maps(200)"
     ],
     "language": "python",
     "metadata": {},
     "outputs": []
    },
    {
     "cell_type": "markdown",
     "metadata": {},
     "source": [
      "#### v_wind"
     ]
    },
    {
     "cell_type": "code",
     "collapsed": false,
     "input": [
      "v_wind_map = make_v_wind_maps(200)"
     ],
     "language": "python",
     "metadata": {},
     "outputs": []
    },
    {
     "cell_type": "markdown",
     "metadata": {},
     "source": [
      "#### combined"
     ]
    },
    {
     "cell_type": "code",
     "collapsed": false,
     "input": [
      "arrowed_maps(u_wind_map, v_wind_map)"
     ],
     "language": "python",
     "metadata": {},
     "outputs": []
    },
    {
     "cell_type": "code",
     "collapsed": false,
     "input": [],
     "language": "python",
     "metadata": {},
     "outputs": []
    }
   ],
   "metadata": {}
  }
 ]
}