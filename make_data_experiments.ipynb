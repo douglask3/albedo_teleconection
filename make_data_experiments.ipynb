{
 "metadata": {
  "name": "Untitled0"
 },
 "nbformat": 3,
 "nbformat_minor": 0,
 "worksheets": [
  {
   "cells": [
    {
     "cell_type": "markdown",
     "metadata": {},
     "source": [
      "# Constructing albedo experiments\n",
      "\n",
      "\n"
     ]
    },
    {
     "cell_type": "markdown",
     "metadata": {},
     "source": [
      "## Optimizatation"
     ]
    },
    {
     "cell_type": "markdown",
     "metadata": {},
     "source": [
      "### Setup\n",
      "First off, import the packages we need"
     ]
    },
    {
     "cell_type": "code",
     "collapsed": false,
     "input": [
      "import matplotlib\n",
      "\n",
      "import sys\n",
      "sys.path.append('../')\n",
      "\n",
      "import libs.import_iris\n",
      "import iris\n",
      "import iris.coords\n",
      "import numpy as np\n",
      "\n",
      "import matplotlib.pyplot as plt\n",
      "import iris.quickplot as qplt\n",
      "import iris.plot as iplt\n",
      "from   libs.plot_maps import *\n",
      "import matplotlib.colors as colours\n",
      "from   pylab import *\n",
      "import matplotlib.cm as mpl_cm\n",
      "\n",
      "import cartopy.crs as ccrs\n",
      "from scipy.optimize import minimize\n",
      "\n",
      "plt.rcParams['figure.figsize'] = (20.0, 5.0)\n",
      "\n"
     ],
     "language": "python",
     "metadata": {},
     "outputs": [
      {
       "output_type": "stream",
       "stream": "stderr",
       "text": [
        "/users/global/rjel/.local/lib/python2.7/site-packages/Cartopy-0.13.1-py2.7-linux-x86_64.egg/cartopy/crs.py:1394: UserWarning: The Robinson projection in the v4.8.x series of Proj.4 contains a discontinuity at 40 deg latitude. Use this projection with caution.\n",
        "  warnings.warn('The Robinson projection in the v4.8.x series '\n"
       ]
      }
     ],
     "prompt_number": 4
    },
    {
     "cell_type": "markdown",
     "metadata": {},
     "source": [
      "And set our data paths and parameters"
     ]
    },
    {
     "cell_type": "code",
     "collapsed": false,
     "input": [
      "datFile = 'data/qrclim.land' ## Data file for hieght/LAI \"observations\""
     ],
     "language": "python",
     "metadata": {},
     "outputs": [],
     "prompt_number": 5
    },
    {
     "cell_type": "code",
     "collapsed": false,
     "input": [
      "dat = iris.load(datFile)"
     ],
     "language": "python",
     "metadata": {},
     "outputs": [],
     "prompt_number": 7
    },
    {
     "cell_type": "code",
     "collapsed": false,
     "input": [],
     "language": "python",
     "metadata": {},
     "outputs": []
    }
   ],
   "metadata": {}
  }
 ]
}