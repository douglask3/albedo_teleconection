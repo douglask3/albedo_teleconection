{
 "metadata": {
  "name": "Untitled1"
 },
 "nbformat": 3,
 "nbformat_minor": 0,
 "worksheets": [
  {
   "cells": [
    {
     "cell_type": "code",
     "collapsed": false,
     "input": [
      "import matplotlib\n",
      "\n",
      "import sys\n",
      "sys.path.append('../')\n",
      "\n",
      "import libs.import_iris\n",
      "import iris\n",
      "import iris.coords\n",
      "import iris.coord_categorisation\n",
      "from libs.load_stash import *\n",
      "import numpy as np\n",
      "\n",
      "import matplotlib.pyplot as plt\n",
      "import iris.quickplot as qplt\n",
      "import iris.plot as iplt\n",
      "from   libs.plot_maps import *\n",
      "import matplotlib.colors as colours\n",
      "from   pylab import *\n",
      "import matplotlib.cm as mpl_cm\n",
      "\n",
      "import cartopy.crs as ccrs"
     ],
     "language": "python",
     "metadata": {},
     "outputs": [
      {
       "output_type": "stream",
       "stream": "stderr",
       "text": [
        "/users/global/rjel/.local/lib/python2.7/site-packages/Cartopy-0.13.1-py2.7-linux-x86_64.egg/cartopy/crs.py:1394: UserWarning: The Robinson projection in the v4.8.x series of Proj.4 contains a discontinuity at 40 deg latitude. Use this projection with caution.\n",
        "  warnings.warn('The Robinson projection in the v4.8.x series '\n"
       ]
      }
     ],
     "prompt_number": 1
    },
    {
     "cell_type": "code",
     "collapsed": false,
     "input": [
      "jobs = ['u-aq226', 'u-ar162']\n",
      "dir   = ['data/' + i + '/apm/' for i in jobs]\n",
      "stash = 'm01s00i032'\n",
      "\n",
      "print(dir)"
     ],
     "language": "python",
     "metadata": {},
     "outputs": [
      {
       "output_type": "stream",
       "stream": "stdout",
       "text": [
        "['data/u-aq226/apm/', 'data/u-ar162/apm/']\n"
       ]
      }
     ],
     "prompt_number": 10
    },
    {
     "cell_type": "code",
     "collapsed": false,
     "input": [
      "cmap  = 'PuBl_r'\n",
      "dcmap = cmap\n",
      "scmap = 'BrGn'\n",
      "\n",
      "levels = [0.0, 1.0, 2.0, 3.0, 4.0, 5.0]\n",
      "dlevels =[-3.0, -2.0, -1.0, -0.1, 0.1, 1.0, 2.0, 3.0]\n",
      "\n",
      "mapLast_n_years = 5"
     ],
     "language": "python",
     "metadata": {},
     "outputs": [],
     "prompt_number": 11
    },
    {
     "cell_type": "code",
     "collapsed": false,
     "input": [
      "def loadJobs(dirs, code):\n",
      "    cubes = [load_stash_dir(dir , code) for dir in dirs]\n",
      "    for cube in cubes: print(cube)\n",
      "    return(cubes)\n",
      "\n",
      "sea_ice = loadJobs(dir, stash)\n",
      "jobs.append('differenc')"
     ],
     "language": "python",
     "metadata": {},
     "outputs": [
      {
       "output_type": "stream",
       "stream": "stdout",
       "text": [
        "None\n",
        "m01s00i032\n",
        "None"
       ]
      },
      {
       "output_type": "stream",
       "stream": "stdout",
       "text": [
        "\n",
        "m01s00i032\n",
        "unknown / (m)                       (time: 432; latitude: 144; longitude: 192)\n",
        "     Dimension coordinates:\n",
        "          time                           x              -               -\n",
        "          latitude                       -              x               -\n",
        "          longitude                      -              -               x\n",
        "     Auxiliary coordinates:\n",
        "          forecast_period                x              -               -\n",
        "     Scalar coordinates:\n",
        "          forecast_reference_time: 1978-12-01 00:00:00\n",
        "     Attributes:\n",
        "          STASH: m01s00i032\n",
        "          source: Data from Met Office Unified Model\n",
        "          um_version: 10.7\n",
        "     Cell methods:\n",
        "          mean: time (1 hour)"
       ]
      },
      {
       "output_type": "stream",
       "stream": "stdout",
       "text": [
        "\n",
        "unknown / (m)                       (time: 432; latitude: 144; longitude: 192)\n",
        "     Dimension coordinates:\n",
        "          time                           x              -               -\n",
        "          latitude                       -              x               -\n",
        "          longitude                      -              -               x\n",
        "     Auxiliary coordinates:\n",
        "          forecast_period                x              -               -\n",
        "     Scalar coordinates:\n",
        "          forecast_reference_time: 1978-12-01 00:00:00\n",
        "     Attributes:\n",
        "          STASH: m01s00i032\n",
        "          source: Data from Met Office Unified Model\n",
        "          um_version: 10.7\n",
        "     Cell methods:\n",
        "          mean: time (1 hour)\n"
       ]
      }
     ],
     "prompt_number": 13
    },
    {
     "cell_type": "code",
     "collapsed": false,
     "input": [
      "def extract_cube_last_nYears(cube, mapLast_n_years):\n",
      "    last_year  = cube.coord('year').points[-1]\n",
      "    years_from = last_year - mapLast_n_years\n",
      "    years = np.arange(years_from, last_year)\n",
      "\n",
      "    try: iris.coord_categorisation.add_year(cube, 'time', name='year')\n",
      "    except: pass\n",
      "\n",
      "    cube = [cube.extract(iris.Constraint(year = i)) for i in years]\n",
      "    cube = iris.cube.CubeList(cube).concatenate()[0]\n",
      "\n",
      "    return cube"
     ],
     "language": "python",
     "metadata": {},
     "outputs": [],
     "prompt_number": 14
    },
    {
     "cell_type": "code",
     "collapsed": false,
     "input": [
      "def extract_map_and_plot(cube, title, extract = True, *args, **kw):\n",
      "    cube = extract_cube_last_nYears(cube, mapLast_n_years)\n",
      "    cube = cube.collapsed('time', iris.analysis.MEAN)\n",
      "    \n",
      "    plot_lonely_cube(cube, N = 1, M = 3, *args, **kw)\n",
      "    plt.title(title)\n",
      "    return(cube)\n",
      "\n",
      "def plot_projection(*args, **kw):\n",
      "    plt.rcParams['figure.figsize'] = (15.0, 5.0)\n",
      "    \n",
      "    maps = [extract_map_and_plot(c, j, n = n, extend = 'max', cmap = cmap, levels = levels, *args, **kw) \n",
      "            for c, j, n in zip(sea_ice, jobs, [1,2])]\n",
      "    \n",
      "    plot_lonely_cube(maps[0] - maps[1], N = 1, M = 3, n = 3, \n",
      "                     cmap = dcmap, levels = dlevels, extend = 'both', *args, **kw)\n",
      "    plt.title('difference')\n",
      "\n",
      "\n"
     ],
     "language": "python",
     "metadata": {},
     "outputs": []
    }
   ],
   "metadata": {}
  }
 ]
}